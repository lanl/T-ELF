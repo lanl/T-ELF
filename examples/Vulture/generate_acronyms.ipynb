{
 "cells": [
  {
   "cell_type": "code",
   "execution_count": 1,
   "metadata": {},
   "outputs": [],
   "source": [
    "import pandas as pd\n",
    "from TELF.pre_processing.Vulture import Vulture\n",
    "from TELF.pre_processing.Vulture.modules import SimpleCleaner\n",
    "from TELF.pre_processing.Vulture.modules import LemmatizeCleaner\n",
    "from TELF.pre_processing.Vulture.modules import SubstitutionCleaner\n",
    "from TELF.pre_processing.Vulture.modules import RemoveNonEnglishCleaner\n",
    "from TELF.pre_processing.Vulture.default_stop_words import  STOP_WORDS\n",
    "from TELF.pre_processing.Vulture.default_stop_phrases import STOP_PHRASES\n",
    "\n",
    "from TELF.pre_processing.Vulture.tokens_analysis.acronyms import find_acronyms"
   ]
  },
  {
   "cell_type": "code",
   "execution_count": 2,
   "metadata": {},
   "outputs": [],
   "source": [
    "sample_text = \"\"\"In the fast-paced modern world, acronyms serve as concise references to complex phrases, \n",
    "spanning various domains and industries. Let's delve into a collection of these abbreviations, \n",
    "highlighting their diverse applications. Starting with geography and sovereignty, the \"United States (US)\" is commonly abbreviated, \n",
    "representing a 3-gram. In the intricate world of computing and electronics, we encounter the \"Central Processing Unit (CPU),\" \n",
    "an essential 4-gram, alongside the \"Random Access Memory (RAM)\" and the \"Global Positioning System (GPS),\" each a 4-gram as well. \n",
    "The realm of science gives us the \"Light Amplification by Stimulated Emission of Radiation (LASER),\" a detailed 8-gram explaining a technology \n",
    "used in countless applications. Diving enthusiasts might recognize the \"Self-Contained Underwater Breathing Apparatus (SCUBA),\" \n",
    "a 6-gram describing essential diving gear. Navigation and detection technology are encapsulated in \"Radio Detection And Ranging (RADAR),\" \n",
    "a concise 5-gram. The digital marketing sphere often references \"Search Engine Optimization (SEO),\" a 4-gram critical for enhancing online visibility. \n",
    "Everyday financial transactions might involve an \"Automated Teller Machine (ATM),\" also a 4-gram, which has simplified banking operations. \n",
    "The building block of life is encoded in \"Deoxyribonucleic Acid (DNA),\" a 3-gram fundamental to genetics. \n",
    "Communication technologies have been revolutionized by \"Voice over Internet Protocol (VoIP),\" a 5-gram facilitating voice communication over the internet.\n",
    "In the medical field, \"Magnetic Resonance Imaging (MRI)\" is a 4-gram that provides unparalleled insights into the human body's interior. \n",
    "The \"Light Emitting Diode (LED)\" technology, a 4-gram, is widely adopted for its efficiency in lighting.\n",
    "The gaming and graphic design industries heavily rely on the \"Graphics Processing Unit (GPU),\" \n",
    "a 4-gram critical for rendering high-quality images. Lastly, the development of dynamic web applications is often \n",
    "powered by \"Asynchronous JavaScript and XML (AJAX),\" a 5-gram that has significantly enhanced web interactivity.\n",
    "\"\"\""
   ]
  },
  {
   "cell_type": "code",
   "execution_count": 3,
   "metadata": {},
   "outputs": [],
   "source": [
    "text_list_varying = [\n",
    "    \"The Central Processing Unit (CPU) is the brain of any computer, tasked with executing commands from software applications.\",\n",
    "    \"Every CPU, or Central Processing Unit, has a clock speed, measured in GHz, which influences how fast it can process information.\",\n",
    "    \"In modern computing, the efficiency of a Central Processing Unit (CPU) , the Central Processing Unit, significantly impacts overall system performance.\",\n",
    "    \"Random Access Memory (RAM) provides the necessary workspace for your computer's CPU to process data, affecting speed and multitasking capabilities.\",\n",
    "    \"Upgrading the RAM, or Random Access Memory, can lead to noticeable improvements in a computer's responsiveness and ability to run multiple applications simultaneously.\",\n",
    "    \"The Global Positioning System (GPS) allows devices to determine their exact location on Earth, crucial for navigation and mapping services.\",\n",
    "    \"Light Emitting Diodes (LEDs) are widely used in displays, signage, and general lighting due to their energy efficiency and longevity.\",\n",
    "    \"Compared to traditional bulbs, LEDs, or Light Emitting Diodes, consume significantly less electricity, making them a cost-effective lighting solution.\",\n",
    "    \"The versatility of LED technology, or Light Emitting Diodes, has seen its application extend from simple indicators to full-scale digital displays.\",\n",
    "    \"Innovations in LED, Light Emitting Diode technology, continue to push the boundaries of what is possible with lighting, impacting various industries.\",\n",
    "    \"Deoxyribonucleic Acid (DNA) holds the genetic blueprint for the development, functioning, and reproduction of living organisms.\",\n",
    "    \"Recent advancements in DNA sequencing technology have revolutionized our understanding of genetics, enabling detailed analysis of the Deoxyribonucleic Acid in various species.\",\n",
    "    sample_text\n",
    "]\n",
    "df = pd.DataFrame(text_list_varying, columns=['Text'])"
   ]
  },
  {
   "cell_type": "code",
   "execution_count": 4,
   "metadata": {},
   "outputs": [
    {
     "name": "stdout",
     "output_type": "stream",
     "text": [
      "<class 'pandas.core.frame.DataFrame'>\n",
      "RangeIndex: 13 entries, 0 to 12\n",
      "Data columns (total 1 columns):\n",
      " #   Column  Non-Null Count  Dtype \n",
      "---  ------  --------------  ----- \n",
      " 0   Text    13 non-null     object\n",
      "dtypes: object(1)\n",
      "memory usage: 236.0+ bytes\n"
     ]
    }
   ],
   "source": [
    "vulture = Vulture(n_jobs=-1, verbose=True)\n",
    "# dataframe_clean_args = {\n",
    "#     \"df\": df,\n",
    "#     \"steps\": vulture.DEFAULT_PIPELINE,\n",
    "#     \"substitutions\": None,\n",
    "#     \"columns\": ['Text'],\n",
    "#     \"append_to_original_df\": True,\n",
    "#     \"concat_cleaned_cols\": True,\n",
    "# }\n",
    "# df = vulture.clean_dataframe(**dataframe_clean_args) \n",
    "df.info()"
   ]
  },
  {
   "cell_type": "raw",
   "metadata": {},
   "source": [
    "find_acronyms(  df, \n",
    "                acronyms_savepath=\"./acronyms\", \n",
    "                exclude_terms=None, \n",
    "                grams_to_n=7, \n",
    "                column=\"clean_Text\", \n",
    "                custom_acronyms=None, \n",
    "                weight=2,\n",
    "                sort_wordcount=False,\n",
    "                save_grams=True\n",
    "            )"
   ]
  },
  {
   "cell_type": "code",
   "execution_count": 5,
   "metadata": {},
   "outputs": [],
   "source": [
    "from TELF.pre_processing.Vulture.modules import AcronymCleaner\n"
   ]
  },
  {
   "cell_type": "code",
   "execution_count": 6,
   "metadata": {},
   "outputs": [
    {
     "name": "stderr",
     "output_type": "stream",
     "text": [
      "[Vulture]: Cleaning 13 documents\n",
      "  0%|          | 0/3 [00:00<?, ?it/s][Vulture]: Running RemoveNonEnglishCleaner module\n",
      "[Parallel(n_jobs=12)]: Using backend MultiprocessingBackend with 12 concurrent workers.\n",
      "[Parallel(n_jobs=12)]: Done   4 out of  13 | elapsed:   25.8s remaining:   58.0s\n",
      "[Parallel(n_jobs=12)]: Done  13 out of  13 | elapsed:  1.2min finished\n",
      " 33%|███▎      | 1/3 [01:11<02:22, 71.35s/it][Vulture]: Running SimpleCleaner module\n",
      "[Parallel(n_jobs=12)]: Using backend MultiprocessingBackend with 12 concurrent workers.\n",
      "[Parallel(n_jobs=12)]: Done   4 out of  13 | elapsed:   30.2s remaining:  1.1min\n",
      "[Parallel(n_jobs=12)]: Done  13 out of  13 | elapsed:  1.3min finished\n",
      " 67%|██████▋   | 2/3 [02:31<01:16, 76.77s/it][Vulture]: Running LemmatizeCleaner module\n",
      "[Parallel(n_jobs=12)]: Using backend MultiprocessingBackend with 12 concurrent workers.\n",
      "[Parallel(n_jobs=12)]: Done   4 out of  13 | elapsed:   32.7s remaining:  1.2min\n",
      "[Parallel(n_jobs=12)]: Done  13 out of  13 | elapsed:  1.4min finished\n",
      "100%|██████████| 3/3 [03:56<00:00, 78.85s/it]\n",
      "[Vulture]: Cleaning 13 documents\n",
      "  0%|          | 0/1 [00:00<?, ?it/s][Vulture]: Running AcronymCleaner module\n",
      "[Parallel(n_jobs=12)]: Using backend MultiprocessingBackend with 12 concurrent workers.\n"
     ]
    },
    {
     "name": "stdout",
     "output_type": "stream",
     "text": [
      "run sub starts:  (0, 'central processing unit cpu computer task execute command software')\n",
      "run sub starts:  {0: 'central processing unit cpu computer task execute command software'}\n",
      "single sub else:  0\n",
      "before words documents {0: 'central processing unit cpu computer task execute command software'}\n",
      "before words doc_id 0\n"
     ]
    },
    {
     "name": "stderr",
     "output_type": "stream",
     "text": [
      "100%|██████████| 1/1 [00:00<00:00, 11096.04it/s]\n",
      "100%|██████████| 1/1 [00:00<00:00, 15650.39it/s]\n",
      "100%|██████████| 1/1 [00:00<00:00, 18558.87it/s]\n",
      "100%|██████████| 1/1 [00:00<00:00, 18477.11it/s]\n",
      "100%|██████████| 1/1 [00:00<00:00, 23301.69it/s]\n",
      "100%|██████████| 1/1 [00:00<00:00, 24244.53it/s]\n",
      "100%|██████████| 1/1 [00:00<00:00, 19239.93it/s]\n"
     ]
    },
    {
     "name": "stdout",
     "output_type": "stream",
     "text": [
      "run sub starts:  (1, 'cpu central processing unit clock speed ghz influence information')\n",
      "run sub starts:  {1: 'cpu central processing unit clock speed ghz influence information'}\n",
      "single sub else:  1\n",
      "empty 2\n"
     ]
    },
    {
     "name": "stderr",
     "output_type": "stream",
     "text": [
      "100%|██████████| 1/1 [00:00<00:00, 20068.44it/s]\n",
      "100%|██████████| 1/1 [00:00<00:00, 33554.43it/s]\n",
      "100%|██████████| 1/1 [00:00<00:00, 38130.04it/s]\n",
      "100%|██████████| 1/1 [00:00<00:00, 30393.51it/s]\n",
      "100%|██████████| 1/1 [00:00<00:00, 37449.14it/s]\n",
      "100%|██████████| 1/1 [00:00<00:00, 41527.76it/s]\n",
      "100%|██████████| 1/1 [00:00<00:00, 43240.25it/s]\n"
     ]
    },
    {
     "name": "stdout",
     "output_type": "stream",
     "text": [
      "run sub starts:  (2, 'modern computing efficiency central processing unit cpu central processing unit impact')\n",
      "run sub starts:  {2: 'modern computing efficiency central processing unit cpu central processing unit impact'}\n",
      "single sub else:  2\n",
      "before words documents {2: 'modern computing efficiency central processing unit cpu central processing unit impact'}\n",
      "before words doc_id 2\n"
     ]
    },
    {
     "name": "stderr",
     "output_type": "stream",
     "text": [
      "100%|██████████| 1/1 [00:00<00:00, 19691.57it/s]\n",
      "100%|██████████| 1/1 [00:00<00:00, 30393.51it/s]\n",
      "100%|██████████| 1/1 [00:00<00:00, 32263.88it/s]\n",
      "100%|██████████| 1/1 [00:00<00:00, 33288.13it/s]\n",
      "100%|██████████| 1/1 [00:00<00:00, 41527.76it/s]\n",
      "100%|██████████| 1/1 [00:00<00:00, 43240.25it/s]\n",
      "100%|██████████| 1/1 [00:00<00:00, 47662.55it/s]\n"
     ]
    },
    {
     "name": "stdout",
     "output_type": "stream",
     "text": [
      "run sub starts:  (3, '')\n",
      "run sub starts:  {3: ''}\n",
      "single sub else:  3\n",
      "empty 2\n"
     ]
    },
    {
     "name": "stderr",
     "output_type": "stream",
     "text": [
      "100%|██████████| 1/1 [00:00<00:00, 25731.93it/s]\n",
      "100%|██████████| 1/1 [00:00<00:00, 52428.80it/s]\n",
      "100%|██████████| 1/1 [00:00<00:00, 49932.19it/s]\n",
      "100%|██████████| 1/1 [00:00<00:00, 45590.26it/s]\n",
      "100%|██████████| 1/1 [00:00<00:00, 59074.70it/s]\n",
      "100%|██████████| 1/1 [00:00<00:00, 61680.94it/s]\n",
      "100%|██████████| 1/1 [00:00<00:00, 65536.00it/s]\n",
      "[Parallel(n_jobs=12)]: Done   4 out of  13 | elapsed:   31.3s remaining:  1.2min\n"
     ]
    },
    {
     "name": "stdout",
     "output_type": "stream",
     "text": [
      "run sub starts:  (4, 'upgrade ram random access memory noticeable improvement computer responsiveness ability multiple simultaneously')\n",
      "run sub starts:  {4: 'upgrade ram random access memory noticeable improvement computer responsiveness ability multiple simultaneously'}\n",
      "single sub else:  4\n",
      "empty 2\n"
     ]
    },
    {
     "name": "stderr",
     "output_type": "stream",
     "text": [
      "100%|██████████| 1/1 [00:00<00:00, 20867.18it/s]\n",
      "100%|██████████| 1/1 [00:00<00:00, 30393.51it/s]\n",
      "100%|██████████| 1/1 [00:00<00:00, 35848.75it/s]\n",
      "100%|██████████| 1/1 [00:00<00:00, 34379.54it/s]\n",
      "100%|██████████| 1/1 [00:00<00:00, 41943.04it/s]\n",
      "100%|██████████| 1/1 [00:00<00:00, 43240.25it/s]\n",
      "100%|██████████| 1/1 [00:00<00:00, 47662.55it/s]\n"
     ]
    },
    {
     "name": "stdout",
     "output_type": "stream",
     "text": [
      "run sub starts:  (5, 'global positioning gps device exact location earth crucial navigation mapping service')\n",
      "run sub starts:  {5: 'global positioning gps device exact location earth crucial navigation mapping service'}\n",
      "single sub else:  5\n",
      "empty 2\n"
     ]
    },
    {
     "name": "stderr",
     "output_type": "stream",
     "text": [
      "100%|██████████| 1/1 [00:00<00:00, 20460.02it/s]\n",
      "100%|██████████| 1/1 [00:00<00:00, 31300.78it/s]\n",
      "100%|██████████| 1/1 [00:00<00:00, 37117.73it/s]\n",
      "100%|██████████| 1/1 [00:00<00:00, 35848.75it/s]\n",
      "100%|██████████| 1/1 [00:00<00:00, 41943.04it/s]\n",
      "100%|██████████| 1/1 [00:00<00:00, 43690.67it/s]\n",
      "100%|██████████| 1/1 [00:00<00:00, 47662.55it/s]\n"
     ]
    },
    {
     "name": "stdout",
     "output_type": "stream",
     "text": [
      "run sub starts:  (6, 'emit diode led display signage lighting efficiency longevity')\n",
      "run sub starts:  {6: 'emit diode led display signage lighting efficiency longevity'}\n",
      "single sub else:  6\n",
      "empty 2\n"
     ]
    },
    {
     "name": "stderr",
     "output_type": "stream",
     "text": [
      "100%|██████████| 1/1 [00:00<00:00, 19239.93it/s]\n",
      "100%|██████████| 1/1 [00:00<00:00, 32017.59it/s]\n",
      "100%|██████████| 1/1 [00:00<00:00, 38130.04it/s]\n",
      "100%|██████████| 1/1 [00:00<00:00, 35848.75it/s]\n",
      "100%|██████████| 1/1 [00:00<00:00, 45590.26it/s]\n",
      "100%|██████████| 1/1 [00:00<00:00, 50533.78it/s]\n",
      "100%|██████████| 1/1 [00:00<00:00, 52428.80it/s]\n"
     ]
    },
    {
     "name": "stdout",
     "output_type": "stream",
     "text": [
      "run sub starts:  (7, '')\n",
      "run sub starts:  {7: ''}\n",
      "single sub else:  7\n",
      "empty 2\n"
     ]
    },
    {
     "name": "stderr",
     "output_type": "stream",
     "text": [
      "100%|██████████| 1/1 [00:00<00:00, 15650.39it/s]\n",
      "100%|██████████| 1/1 [00:00<00:00, 29330.80it/s]\n",
      "100%|██████████| 1/1 [00:00<00:00, 53092.46it/s]\n",
      "100%|██████████| 1/1 [00:00<00:00, 43690.67it/s]\n",
      "100%|██████████| 1/1 [00:00<00:00, 62601.55it/s]\n",
      "100%|██████████| 1/1 [00:00<00:00, 71089.90it/s]\n",
      "100%|██████████| 1/1 [00:00<00:00, 67650.06it/s]\n"
     ]
    },
    {
     "name": "stdout",
     "output_type": "stream",
     "text": [
      "run sub starts:  (8, 'versatility lead technology emit diode extend indicator digital display')\n",
      "run sub starts:  {8: 'versatility lead technology emit diode extend indicator digital display'}\n",
      "single sub else:  8\n",
      "empty 2\n"
     ]
    },
    {
     "name": "stderr",
     "output_type": "stream",
     "text": [
      "100%|██████████| 1/1 [00:00<00:00, 21399.51it/s]\n",
      "100%|██████████| 1/1 [00:00<00:00, 35848.75it/s]\n",
      "100%|██████████| 1/1 [00:00<00:00, 35848.75it/s]\n",
      "100%|██████████| 1/1 [00:00<00:00, 36792.14it/s]\n",
      "100%|██████████| 1/1 [00:00<00:00, 43690.67it/s]\n",
      "100%|██████████| 1/1 [00:00<00:00, 47662.55it/s]\n",
      "100%|██████████| 1/1 [00:00<00:00, 53092.46it/s]\n"
     ]
    },
    {
     "name": "stdout",
     "output_type": "stream",
     "text": [
      "run sub starts:  (9, 'innovation lead emit diode technology continue push boundary light impact industry')\n",
      "run sub starts:  {9: 'innovation lead emit diode technology continue push boundary light impact industry'}\n",
      "single sub else:  9\n",
      "empty 2\n"
     ]
    },
    {
     "name": "stderr",
     "output_type": "stream",
     "text": [
      "100%|██████████| 1/1 [00:00<00:00, 18477.11it/s]\n",
      "100%|██████████| 1/1 [00:00<00:00, 33554.43it/s]\n",
      "100%|██████████| 1/1 [00:00<00:00, 35544.95it/s]\n",
      "100%|██████████| 1/1 [00:00<00:00, 34663.67it/s]\n",
      "100%|██████████| 1/1 [00:00<00:00, 41943.04it/s]\n",
      "100%|██████████| 1/1 [00:00<00:00, 45590.26it/s]\n",
      "100%|██████████| 1/1 [00:00<00:00, 47662.55it/s]\n"
     ]
    },
    {
     "name": "stdout",
     "output_type": "stream",
     "text": [
      "run sub starts:  (10, 'deoxyribonucleic acid dna hold genetic blueprint development function reproduction living organism')\n",
      "run sub starts:  {10: 'deoxyribonucleic acid dna hold genetic blueprint development function reproduction living organism'}\n",
      "single sub else:  10\n",
      "empty 2\n"
     ]
    },
    {
     "name": "stderr",
     "output_type": "stream",
     "text": [
      "100%|██████████| 1/1 [00:00<00:00, 20971.52it/s]\n",
      "100%|██████████| 1/1 [00:00<00:00, 30393.51it/s]\n",
      "100%|██████████| 1/1 [00:00<00:00, 31300.78it/s]\n",
      "100%|██████████| 1/1 [00:00<00:00, 28532.68it/s]\n",
      "100%|██████████| 1/1 [00:00<00:00, 37117.73it/s]\n",
      "100%|██████████| 1/1 [00:00<00:00, 41527.76it/s]\n",
      "100%|██████████| 1/1 [00:00<00:00, 41527.76it/s]\n",
      "100%|██████████| 1/1 [00:00<00:00, 4185.93it/s]\n",
      "100%|██████████| 1/1 [00:00<00:00, 8355.19it/s]\n",
      "100%|██████████| 1/1 [00:00<00:00, 8774.69it/s]\n",
      "100%|██████████| 1/1 [00:00<00:00, 8943.08it/s]\n",
      "100%|██████████| 1/1 [00:00<00:00, 4609.13it/s]\n",
      "100%|██████████| 1/1 [00:00<00:00, 3279.36it/s]\n",
      "100%|██████████| 1/1 [00:00<00:00, 4519.72it/s]\n",
      "100%|██████████| 1/1 [00:00<00:00, 12985.46it/s]\n",
      "100%|██████████| 1/1 [00:00<00:00, 20460.02it/s]\n",
      "100%|██████████| 1/1 [00:00<00:00, 21399.51it/s]\n",
      "100%|██████████| 1/1 [00:00<00:00, 31068.92it/s]\n",
      "100%|██████████| 1/1 [00:00<00:00, 37117.73it/s]\n",
      "100%|██████████| 1/1 [00:00<00:00, 38479.85it/s]\n",
      "100%|██████████| 1/1 [00:00<00:00, 39568.91it/s]\n",
      "[Parallel(n_jobs=12)]: Done  13 out of  13 | elapsed:  1.4min finished\n",
      "100%|██████████| 1/1 [01:23<00:00, 83.07s/it]"
     ]
    },
    {
     "name": "stdout",
     "output_type": "stream",
     "text": [
      "run sub starts:  (11, 'advancement dna sequence technology revolutionize understand genetic enable detailed analysis deoxyribonucleic acid specie')\n",
      "run sub starts:  (12, 'modern acronym serve concise complex phrase span domain industry delve collection abbreviation highlight diverse start geography sovereignty united states commonly abbreviate -gram intricate computing electronic encounter central processing unit cpu essential -gram alongside random access memory ram global positioning gps -gram realm science amplification stimulate emission radiation laser detail -gram explain technology countless diving enthusiast recognize underwater breathing apparatus scuba -gram describe essential diving gear navigation technology encapsulate radio range radar concise -gram digital marketing sphere search engine optimization seo -gram critical enhance online visibility everyday financial transaction involve automated teller machine atm -gram simplify banking operation building block life encode deoxyribonucleic acid dna -gram fundamental genetic communication technology revolutionize voice internet protocol voip -gram facilitate voice communication internet medical field magnetic resonance image mri -gram unparalleled insight human bodys interior emit diode lead technology -gram efficiency lighting game graphic design industry heavily rely graphic processing unit gpu -gram critical rendering image lastly development dynamic web power asynchronous javascript xml ajax -gram enhance web interactivity')\n",
      "run sub starts:  {12: 'modern acronym serve concise complex phrase span domain industry delve collection abbreviation highlight diverse start geography sovereignty united states commonly abbreviate -gram intricate computing electronic encounter central processing unit cpu essential -gram alongside random access memory ram global positioning gps -gram realm science amplification stimulate emission radiation laser detail -gram explain technology countless diving enthusiast recognize underwater breathing apparatus scuba -gram describe essential diving gear navigation technology encapsulate radio range radar concise -gram digital marketing sphere search engine optimization seo -gram critical enhance online visibility everyday financial transaction involve automated teller machine atm -gram simplify banking operation building block life encode deoxyribonucleic acid dna -gram fundamental genetic communication technology revolutionize voice internet protocol voip -gram facilitate voice communication internet medical field magnetic resonance image mri -gram unparalleled insight human bodys interior emit diode lead technology -gram efficiency lighting game graphic design industry heavily rely graphic processing unit gpu -gram critical rendering image lastly development dynamic web power asynchronous javascript xml ajax -gram enhance web interactivity'}\n",
      "run sub starts:  {11: 'advancement dna sequence technology revolutionize understand genetic enable detailed analysis deoxyribonucleic acid specie'}\n",
      "single sub else:  12\n",
      "before words documents {12: 'modern acronym serve concise complex phrase span domain industry delve collection abbreviation highlight diverse start geography sovereignty united states commonly abbreviate -gram intricate computing electronic encounter central processing unit cpu essential -gram alongside random access memory ram global positioning gps -gram realm science amplification stimulate emission radiation laser detail -gram explain technology countless diving enthusiast recognize underwater breathing apparatus scuba -gram describe essential diving gear navigation technology encapsulate radio range radar concise -gram digital marketing sphere search engine optimization seo -gram critical enhance online visibility everyday financial transaction involve automated teller machine atm -gram simplify banking operation building block life encode deoxyribonucleic acid dna -gram fundamental genetic communication technology revolutionize voice internet protocol voip -gram facilitate voice communication internet medical field magnetic resonance image mri -gram unparalleled insight human bodys interior emit diode lead technology -gram efficiency lighting game graphic design industry heavily rely graphic processing unit gpu -gram critical rendering image lastly development dynamic web power asynchronous javascript xml ajax -gram enhance web interactivity'}\n",
      "before words doc_id 12\n",
      "single sub else:  11\n",
      "empty 2\n"
     ]
    },
    {
     "name": "stderr",
     "output_type": "stream",
     "text": [
      "\n"
     ]
    }
   ],
   "source": [
    "documents = {i: text for i,text in enumerate(text_list_varying)}\n",
    "\n",
    "steps = [\n",
    "    RemoveNonEnglishCleaner(ascii_ratio=0.9, stopwords_ratio=0.25),\n",
    "    SimpleCleaner(stop_words = STOP_WORDS,\n",
    "                  stop_phrases = STOP_PHRASES,\n",
    "                  order = [\n",
    "                      'standardize_hyphens',\n",
    "                      'isolate_frozen',\n",
    "                      'remove_copyright_statement',\n",
    "                      'remove_stop_phrases',\n",
    "                      'make_lower_case',\n",
    "                      'remove_formulas',\n",
    "                      'normalize',\n",
    "                      'remove_next_line',\n",
    "                      'remove_email',\n",
    "                      'remove_()',\n",
    "                      'remove_[]',\n",
    "                      'remove_special_characters',\n",
    "                      'remove_nonASCII_boundary',\n",
    "                      'remove_nonASCII',\n",
    "                      'remove_tags',\n",
    "                      'remove_stop_words',\n",
    "                      'remove_standalone_numbers',\n",
    "                      'remove_extra_whitespace',\n",
    "                      'min_characters',\n",
    "                  ]\n",
    "                ),\n",
    "    LemmatizeCleaner('spacy'),\n",
    "]\n",
    "cleaned_documents = vulture.clean(documents, steps=steps)\n",
    "\n",
    "steps_2 = [\n",
    "    AcronymCleaner(merge_sim_threshold=0.9, verbose=True),\n",
    "]\n",
    "acronyms = vulture.clean(cleaned_documents, steps=steps_2)\n",
    "\n",
    "# steps_3 = [\n",
    "#     sub = SubstitutionCleaner(acronyms, lemmatize=False)(),\n",
    "# ]\n",
    "# acronyms = vulture.clean(cleaned_documents, steps=steps)\n",
    " \n"
   ]
  },
  {
   "cell_type": "code",
   "execution_count": null,
   "metadata": {},
   "outputs": [],
   "source": []
  },
  {
   "cell_type": "code",
   "execution_count": 7,
   "metadata": {},
   "outputs": [
    {
     "name": "stderr",
     "output_type": "stream",
     "text": [
      "[Vulture]: Cleaning 13 documents\n",
      "  0%|          | 0/1 [00:00<?, ?it/s][Vulture]: Running AcronymCleaner module\n",
      "[Parallel(n_jobs=12)]: Using backend MultiprocessingBackend with 12 concurrent workers.\n"
     ]
    },
    {
     "name": "stdout",
     "output_type": "stream",
     "text": [
      "run sub starts:  (0, 'central processing unit cpu computer task execute command software')\n",
      "run sub starts:  {0: 'central processing unit cpu computer task execute command software'}\n",
      "single sub else:  0\n",
      "before words documents {0: 'central processing unit cpu computer task execute command software'}\n",
      "before words doc_id 0\n"
     ]
    },
    {
     "name": "stderr",
     "output_type": "stream",
     "text": [
      "100%|██████████| 1/1 [00:00<00:00, 20867.18it/s]\n",
      "100%|██████████| 1/1 [00:00<00:00, 35848.75it/s]\n",
      "100%|██████████| 1/1 [00:00<00:00, 36792.14it/s]\n",
      "100%|██████████| 1/1 [00:00<00:00, 35544.95it/s]\n",
      "100%|██████████| 1/1 [00:00<00:00, 43690.67it/s]\n",
      "100%|██████████| 1/1 [00:00<00:00, 45100.04it/s]\n",
      "100%|██████████| 1/1 [00:00<00:00, 49932.19it/s]\n"
     ]
    },
    {
     "name": "stdout",
     "output_type": "stream",
     "text": [
      "run sub starts:  (1, 'cpu central processing unit clock speed ghz influence information')\n",
      "run sub starts:  {1: 'cpu central processing unit clock speed ghz influence information'}\n",
      "single sub else:  1\n",
      "empty 2\n"
     ]
    },
    {
     "name": "stderr",
     "output_type": "stream",
     "text": [
      "100%|██████████| 1/1 [00:00<00:00, 19972.88it/s]\n",
      "100%|██████████| 1/1 [00:00<00:00, 33026.02it/s]\n",
      "100%|██████████| 1/1 [00:00<00:00, 35848.75it/s]\n",
      "100%|██████████| 1/1 [00:00<00:00, 34379.54it/s]\n",
      "100%|██████████| 1/1 [00:00<00:00, 43240.25it/s]\n",
      "100%|██████████| 1/1 [00:00<00:00, 47662.55it/s]\n",
      "100%|██████████| 1/1 [00:00<00:00, 53092.46it/s]\n"
     ]
    },
    {
     "name": "stdout",
     "output_type": "stream",
     "text": [
      "run sub starts:  (2, 'modern computing efficiency central processing unit cpu central processing unit impact')\n",
      "run sub starts:  {2: 'modern computing efficiency central processing unit cpu central processing unit impact'}\n",
      "single sub else:  2\n",
      "before words documents {2: 'modern computing efficiency central processing unit cpu central processing unit impact'}\n",
      "before words doc_id 2\n"
     ]
    },
    {
     "name": "stderr",
     "output_type": "stream",
     "text": [
      "100%|██████████| 1/1 [00:00<00:00, 22192.08it/s]\n",
      "100%|██████████| 1/1 [00:00<00:00, 31300.78it/s]\n",
      "100%|██████████| 1/1 [00:00<00:00, 35848.75it/s]\n",
      "100%|██████████| 1/1 [00:00<00:00, 34379.54it/s]\n",
      "100%|██████████| 1/1 [00:00<00:00, 41527.76it/s]\n",
      "100%|██████████| 1/1 [00:00<00:00, 43690.67it/s]\n",
      "100%|██████████| 1/1 [00:00<00:00, 47662.55it/s]\n"
     ]
    },
    {
     "name": "stdout",
     "output_type": "stream",
     "text": [
      "run sub starts:  (3, '')\n",
      "run sub starts:  {3: ''}\n",
      "single sub else:  3\n",
      "empty 2\n"
     ]
    },
    {
     "name": "stderr",
     "output_type": "stream",
     "text": [
      "100%|██████████| 1/1 [00:00<00:00, 26379.27it/s]\n",
      "100%|██████████| 1/1 [00:00<00:00, 47127.01it/s]\n",
      "100%|██████████| 1/1 [00:00<00:00, 52428.80it/s]\n",
      "100%|██████████| 1/1 [00:00<00:00, 45100.04it/s]\n",
      "100%|██████████| 1/1 [00:00<00:00, 59074.70it/s]\n",
      "100%|██████████| 1/1 [00:00<00:00, 62601.55it/s]\n",
      "100%|██████████| 1/1 [00:00<00:00, 71089.90it/s]\n",
      "[Parallel(n_jobs=12)]: Done   4 out of  13 | elapsed:   32.0s remaining:  1.2min\n"
     ]
    },
    {
     "name": "stdout",
     "output_type": "stream",
     "text": [
      "run sub starts:  (4, 'upgrade ram random access memory noticeable improvement computer responsiveness ability multiple simultaneously')\n",
      "run sub starts:  {4: 'upgrade ram random access memory noticeable improvement computer responsiveness ability multiple simultaneously'}\n",
      "single sub else:  4\n",
      "empty 2\n"
     ]
    },
    {
     "name": "stderr",
     "output_type": "stream",
     "text": [
      "100%|██████████| 1/1 [00:00<00:00, 17331.83it/s]\n",
      "100%|██████████| 1/1 [00:00<00:00, 33554.43it/s]\n",
      "100%|██████████| 1/1 [00:00<00:00, 35848.75it/s]\n",
      "100%|██████████| 1/1 [00:00<00:00, 33288.13it/s]\n",
      "100%|██████████| 1/1 [00:00<00:00, 41527.76it/s]\n",
      "100%|██████████| 1/1 [00:00<00:00, 43690.67it/s]\n",
      "100%|██████████| 1/1 [00:00<00:00, 45100.04it/s]\n"
     ]
    },
    {
     "name": "stdout",
     "output_type": "stream",
     "text": [
      "run sub starts:  (5, 'global positioning gps device exact location earth crucial navigation mapping service')\n",
      "run sub starts:  {5: 'global positioning gps device exact location earth crucial navigation mapping service'}\n",
      "single sub else:  5\n",
      "empty 2\n"
     ]
    },
    {
     "name": "stderr",
     "output_type": "stream",
     "text": [
      "100%|██████████| 1/1 [00:00<00:00, 20867.18it/s]\n",
      "100%|██████████| 1/1 [00:00<00:00, 32263.88it/s]\n",
      "100%|██████████| 1/1 [00:00<00:00, 36792.14it/s]\n",
      "100%|██████████| 1/1 [00:00<00:00, 35848.75it/s]\n",
      "100%|██████████| 1/1 [00:00<00:00, 41943.04it/s]\n",
      "100%|██████████| 1/1 [00:00<00:00, 45590.26it/s]\n",
      "100%|██████████| 1/1 [00:00<00:00, 47127.01it/s]\n"
     ]
    },
    {
     "name": "stdout",
     "output_type": "stream",
     "text": [
      "run sub starts:  (6, 'emit diode led display signage lighting efficiency longevity')\n",
      "run sub starts:  {6: 'emit diode led display signage lighting efficiency longevity'}\n",
      "single sub else:  6\n",
      "empty 2\n"
     ]
    },
    {
     "name": "stderr",
     "output_type": "stream",
     "text": [
      "100%|██████████| 1/1 [00:00<00:00, 10894.30it/s]\n",
      "100%|██████████| 1/1 [00:00<00:00, 13934.56it/s]\n",
      "100%|██████████| 1/1 [00:00<00:00, 18157.16it/s]\n",
      "100%|██████████| 1/1 [00:00<00:00, 18893.26it/s]\n",
      "100%|██████████| 1/1 [00:00<00:00, 23172.95it/s]\n",
      "100%|██████████| 1/1 [00:00<00:00, 21399.51it/s]\n",
      "100%|██████████| 1/1 [00:00<00:00, 22795.13it/s]\n"
     ]
    },
    {
     "name": "stdout",
     "output_type": "stream",
     "text": [
      "run sub starts:  (7, '')\n",
      "run sub starts:  {7: ''}\n",
      "single sub else:  7\n",
      "empty 2\n"
     ]
    },
    {
     "name": "stderr",
     "output_type": "stream",
     "text": [
      "100%|██████████| 1/1 [00:00<00:00, 27776.85it/s]\n",
      "100%|██████████| 1/1 [00:00<00:00, 49932.19it/s]\n",
      "100%|██████████| 1/1 [00:00<00:00, 53092.46it/s]\n",
      "100%|██████████| 1/1 [00:00<00:00, 43240.25it/s]\n",
      "100%|██████████| 1/1 [00:00<00:00, 59074.70it/s]\n",
      "100%|██████████| 1/1 [00:00<00:00, 67650.06it/s]\n",
      "100%|██████████| 1/1 [00:00<00:00, 71089.90it/s]\n"
     ]
    },
    {
     "name": "stdout",
     "output_type": "stream",
     "text": [
      "run sub starts:  (8, 'versatility lead technology emit diode extend indicator digital display')\n",
      "run sub starts:  {8: 'versatility lead technology emit diode extend indicator digital display'}\n",
      "single sub else:  8\n",
      "empty 2\n"
     ]
    },
    {
     "name": "stderr",
     "output_type": "stream",
     "text": [
      "100%|██████████| 1/1 [00:00<00:00, 12520.31it/s]\n",
      "100%|██████████| 1/1 [00:00<00:00, 14665.40it/s]\n",
      "100%|██████████| 1/1 [00:00<00:00, 16320.25it/s]\n",
      "100%|██████████| 1/1 [00:00<00:00, 18558.87it/s]\n",
      "100%|██████████| 1/1 [00:00<00:00, 22671.91it/s]\n",
      "100%|██████████| 1/1 [00:00<00:00, 24966.10it/s]\n",
      "100%|██████████| 1/1 [00:00<00:00, 27060.03it/s]\n"
     ]
    },
    {
     "name": "stdout",
     "output_type": "stream",
     "text": [
      "run sub starts:  (9, 'innovation lead emit diode technology continue push boundary light impact industry')\n",
      "run sub starts:  {9: 'innovation lead emit diode technology continue push boundary light impact industry'}\n",
      "single sub else:  9\n",
      "empty 2\n"
     ]
    },
    {
     "name": "stderr",
     "output_type": "stream",
     "text": [
      "100%|██████████| 1/1 [00:00<00:00, 11244.78it/s]\n",
      "100%|██████████| 1/1 [00:00<00:00, 14665.40it/s]\n",
      "100%|██████████| 1/1 [00:00<00:00, 14122.24it/s]\n",
      "100%|██████████| 1/1 [00:00<00:00, 15887.52it/s]\n",
      "100%|██████████| 1/1 [00:00<00:00, 19599.55it/s]\n",
      "100%|██████████| 1/1 [00:00<00:00, 23172.95it/s]\n",
      "100%|██████████| 1/1 [00:00<00:00, 25115.59it/s]\n"
     ]
    },
    {
     "name": "stdout",
     "output_type": "stream",
     "text": [
      "run sub starts:  (10, 'deoxyribonucleic acid dna hold genetic blueprint development function reproduction living organism')\n",
      "run sub starts:  {10: 'deoxyribonucleic acid dna hold genetic blueprint development function reproduction living organism'}\n",
      "single sub else:  10\n",
      "empty 2\n"
     ]
    },
    {
     "name": "stderr",
     "output_type": "stream",
     "text": [
      "100%|██████████| 1/1 [00:00<00:00, 18236.10it/s]\n",
      "100%|██████████| 1/1 [00:00<00:00, 28532.68it/s]\n",
      "100%|██████████| 1/1 [00:00<00:00, 23696.63it/s]\n",
      "100%|██████████| 1/1 [00:00<00:00, 26214.40it/s]\n",
      "100%|██████████| 1/1 [00:00<00:00, 32263.88it/s]\n",
      "100%|██████████| 1/1 [00:00<00:00, 33026.02it/s]\n",
      "100%|██████████| 1/1 [00:00<00:00, 36792.14it/s]\n",
      "100%|██████████| 1/1 [00:00<00:00, 3919.91it/s]\n",
      "100%|██████████| 1/1 [00:00<00:00, 4583.94it/s]\n",
      "100%|██████████| 1/1 [00:00<00:00, 4583.94it/s]\n",
      "100%|██████████| 1/1 [00:00<00:00, 4760.84it/s]\n",
      "100%|██████████| 1/1 [00:00<00:00, 5159.05it/s]\n",
      "100%|██████████| 1/1 [00:00<00:00, 3266.59it/s]\n",
      "100%|██████████| 1/1 [00:00<00:00, 10894.30it/s]\n",
      "100%|██████████| 1/1 [00:00<00:00, 4485.89it/s]\n",
      "100%|██████████| 1/1 [00:00<00:00, 17848.10it/s]\n",
      "100%|██████████| 1/1 [00:00<00:00, 21732.15it/s]\n",
      "100%|██████████| 1/1 [00:00<00:00, 21845.33it/s]\n",
      "100%|██████████| 1/1 [00:00<00:00, 26379.27it/s]\n",
      "100%|██████████| 1/1 [00:00<00:00, 28532.68it/s]\n",
      "100%|██████████| 1/1 [00:00<00:00, 29537.35it/s]\n",
      "[Parallel(n_jobs=12)]: Done  13 out of  13 | elapsed:  1.7min finished\n",
      "100%|██████████| 1/1 [01:42<00:00, 102.01s/it]"
     ]
    },
    {
     "name": "stdout",
     "output_type": "stream",
     "text": [
      "run sub starts:  (11, 'advancement dna sequence technology revolutionize understand genetic enable detailed analysis deoxyribonucleic acid specie')\n",
      "run sub starts:  (12, 'modern acronym serve concise complex phrase span domain industry delve collection abbreviation highlight diverse start geography sovereignty united states commonly abbreviate -gram intricate computing electronic encounter central processing unit cpu essential -gram alongside random access memory ram global positioning gps -gram realm science amplification stimulate emission radiation laser detail -gram explain technology countless diving enthusiast recognize underwater breathing apparatus scuba -gram describe essential diving gear navigation technology encapsulate radio range radar concise -gram digital marketing sphere search engine optimization seo -gram critical enhance online visibility everyday financial transaction involve automated teller machine atm -gram simplify banking operation building block life encode deoxyribonucleic acid dna -gram fundamental genetic communication technology revolutionize voice internet protocol voip -gram facilitate voice communication internet medical field magnetic resonance image mri -gram unparalleled insight human bodys interior emit diode lead technology -gram efficiency lighting game graphic design industry heavily rely graphic processing unit gpu -gram critical rendering image lastly development dynamic web power asynchronous javascript xml ajax -gram enhance web interactivity')\n",
      "run sub starts:  {12: 'modern acronym serve concise complex phrase span domain industry delve collection abbreviation highlight diverse start geography sovereignty united states commonly abbreviate -gram intricate computing electronic encounter central processing unit cpu essential -gram alongside random access memory ram global positioning gps -gram realm science amplification stimulate emission radiation laser detail -gram explain technology countless diving enthusiast recognize underwater breathing apparatus scuba -gram describe essential diving gear navigation technology encapsulate radio range radar concise -gram digital marketing sphere search engine optimization seo -gram critical enhance online visibility everyday financial transaction involve automated teller machine atm -gram simplify banking operation building block life encode deoxyribonucleic acid dna -gram fundamental genetic communication technology revolutionize voice internet protocol voip -gram facilitate voice communication internet medical field magnetic resonance image mri -gram unparalleled insight human bodys interior emit diode lead technology -gram efficiency lighting game graphic design industry heavily rely graphic processing unit gpu -gram critical rendering image lastly development dynamic web power asynchronous javascript xml ajax -gram enhance web interactivity'}\n",
      "run sub starts:  {11: 'advancement dna sequence technology revolutionize understand genetic enable detailed analysis deoxyribonucleic acid specie'}\n",
      "single sub else:  12\n",
      "before words documents {12: 'modern acronym serve concise complex phrase span domain industry delve collection abbreviation highlight diverse start geography sovereignty united states commonly abbreviate -gram intricate computing electronic encounter central processing unit cpu essential -gram alongside random access memory ram global positioning gps -gram realm science amplification stimulate emission radiation laser detail -gram explain technology countless diving enthusiast recognize underwater breathing apparatus scuba -gram describe essential diving gear navigation technology encapsulate radio range radar concise -gram digital marketing sphere search engine optimization seo -gram critical enhance online visibility everyday financial transaction involve automated teller machine atm -gram simplify banking operation building block life encode deoxyribonucleic acid dna -gram fundamental genetic communication technology revolutionize voice internet protocol voip -gram facilitate voice communication internet medical field magnetic resonance image mri -gram unparalleled insight human bodys interior emit diode lead technology -gram efficiency lighting game graphic design industry heavily rely graphic processing unit gpu -gram critical rendering image lastly development dynamic web power asynchronous javascript xml ajax -gram enhance web interactivity'}\n",
      "before words doc_id 12\n",
      "single sub else:  11\n",
      "empty 2\n"
     ]
    },
    {
     "name": "stderr",
     "output_type": "stream",
     "text": [
      "\n"
     ]
    }
   ],
   "source": [
    "steps_2 = [\n",
    "    AcronymCleaner(merge_sim_threshold=0.9, verbose=True),\n",
    "]\n",
    "acronyms = vulture.clean(cleaned_documents, steps=steps_2)"
   ]
  },
  {
   "cell_type": "code",
   "execution_count": null,
   "metadata": {},
   "outputs": [],
   "source": []
  },
  {
   "cell_type": "code",
   "execution_count": 8,
   "metadata": {},
   "outputs": [
    {
     "name": "stderr",
     "output_type": "stream",
     "text": [
      "[Vulture]: Cleaning 13 documents\n",
      "  0%|          | 0/1 [00:00<?, ?it/s][Vulture]: Running AcronymCleaner module\n",
      "[Parallel(n_jobs=12)]: Using backend MultiprocessingBackend with 12 concurrent workers.\n"
     ]
    },
    {
     "name": "stdout",
     "output_type": "stream",
     "text": [
      "run sub starts:  (0, 'The Central Processing Unit (CPU) is the brain of any computer, tasked with executing commands from software applications.')\n",
      "run sub starts:  {0: 'The Central Processing Unit (CPU) is the brain of any computer, tasked with executing commands from software applications.'}\n",
      "single sub else:  0\n",
      "empty 2\n"
     ]
    },
    {
     "name": "stderr",
     "output_type": "stream",
     "text": [
      "100%|██████████| 1/1 [00:00<00:00, 11915.64it/s]\n",
      "100%|██████████| 1/1 [00:00<00:00, 27776.85it/s]\n",
      "100%|██████████| 1/1 [00:00<00:00, 24385.49it/s]\n",
      "100%|██████████| 1/1 [00:00<00:00, 27060.03it/s]\n",
      "100%|██████████| 1/1 [00:00<00:00, 32263.88it/s]\n",
      "100%|██████████| 1/1 [00:00<00:00, 37117.73it/s]\n",
      "100%|██████████| 1/1 [00:00<00:00, 36792.14it/s]\n"
     ]
    },
    {
     "name": "stdout",
     "output_type": "stream",
     "text": [
      "run sub starts:  (1, 'Every CPU, or Central Processing Unit, has a clock speed, measured in GHz, which influences how fast it can process information.')\n",
      "run sub starts:  {1: 'Every CPU, or Central Processing Unit, has a clock speed, measured in GHz, which influences how fast it can process information.'}\n",
      "single sub else:  1\n",
      "empty 2\n"
     ]
    },
    {
     "name": "stderr",
     "output_type": "stream",
     "text": [
      "100%|██████████| 1/1 [00:00<00:00, 16710.37it/s]\n",
      "100%|██████████| 1/1 [00:00<00:00, 25731.93it/s]\n",
      "100%|██████████| 1/1 [00:00<00:00, 30393.51it/s]\n",
      "100%|██████████| 1/1 [00:00<00:00, 29330.80it/s]\n",
      "100%|██████████| 1/1 [00:00<00:00, 31068.92it/s]\n",
      "100%|██████████| 1/1 [00:00<00:00, 35544.95it/s]\n",
      "100%|██████████| 1/1 [00:00<00:00, 37117.73it/s]\n"
     ]
    },
    {
     "name": "stdout",
     "output_type": "stream",
     "text": [
      "run sub starts:  (2, 'In modern computing, the efficiency of a Central Processing Unit (CPU) , the Central Processing Unit, significantly impacts overall system performance.')\n",
      "run sub starts:  {2: 'In modern computing, the efficiency of a Central Processing Unit (CPU) , the Central Processing Unit, significantly impacts overall system performance.'}\n",
      "single sub else:  2\n",
      "empty 2\n"
     ]
    },
    {
     "name": "stderr",
     "output_type": "stream",
     "text": [
      "100%|██████████| 1/1 [00:00<00:00, 17848.10it/s]\n",
      "100%|██████████| 1/1 [00:00<00:00, 24385.49it/s]\n",
      "100%|██████████| 1/1 [00:00<00:00, 25731.93it/s]\n",
      "100%|██████████| 1/1 [00:00<00:00, 22192.08it/s]\n",
      "100%|██████████| 1/1 [00:00<00:00, 26379.27it/s]\n",
      "100%|██████████| 1/1 [00:00<00:00, 28728.11it/s]\n",
      "100%|██████████| 1/1 [00:00<00:00, 31300.78it/s]\n"
     ]
    },
    {
     "name": "stdout",
     "output_type": "stream",
     "text": [
      "run sub starts:  (3, \"Random Access Memory (RAM) provides the necessary workspace for your computer's CPU to process data, affecting speed and multitasking capabilities.\")\n",
      "run sub starts:  {3: \"Random Access Memory (RAM) provides the necessary workspace for your computer's CPU to process data, affecting speed and multitasking capabilities.\"}\n",
      "single sub else:  3\n",
      "empty 2\n"
     ]
    },
    {
     "name": "stderr",
     "output_type": "stream",
     "text": [
      "100%|██████████| 1/1 [00:00<00:00, 10512.04it/s]\n",
      "100%|██████████| 1/1 [00:00<00:00, 25731.93it/s]\n",
      "100%|██████████| 1/1 [00:00<00:00, 27776.85it/s]\n",
      "100%|██████████| 1/1 [00:00<00:00, 28532.68it/s]\n",
      "100%|██████████| 1/1 [00:00<00:00, 30174.85it/s]\n",
      "100%|██████████| 1/1 [00:00<00:00, 34663.67it/s]\n",
      "100%|██████████| 1/1 [00:00<00:00, 35544.95it/s]\n",
      "[Parallel(n_jobs=12)]: Done   4 out of  13 | elapsed:  1.0min remaining:  2.3min\n"
     ]
    },
    {
     "name": "stdout",
     "output_type": "stream",
     "text": [
      "run sub starts:  (4, \"Upgrading the RAM, or Random Access Memory, can lead to noticeable improvements in a computer's responsiveness and ability to run multiple applications simultaneously.\")\n",
      "run sub starts:  {4: \"Upgrading the RAM, or Random Access Memory, can lead to noticeable improvements in a computer's responsiveness and ability to run multiple applications simultaneously.\"}\n",
      "single sub else:  4\n",
      "empty 2\n"
     ]
    },
    {
     "name": "stderr",
     "output_type": "stream",
     "text": [
      "100%|██████████| 1/1 [00:00<00:00, 15363.75it/s]\n",
      "100%|██████████| 1/1 [00:00<00:00, 23831.27it/s]\n",
      "100%|██████████| 1/1 [00:00<00:00, 26214.40it/s]\n",
      "100%|██████████| 1/1 [00:00<00:00, 24818.37it/s]\n",
      "100%|██████████| 1/1 [00:00<00:00, 27962.03it/s]\n",
      "100%|██████████| 1/1 [00:00<00:00, 32263.88it/s]\n",
      "100%|██████████| 1/1 [00:00<00:00, 29537.35it/s]\n"
     ]
    },
    {
     "name": "stdout",
     "output_type": "stream",
     "text": [
      "run sub starts:  (5, 'The Global Positioning System (GPS) allows devices to determine their exact location on Earth, crucial for navigation and mapping services.')\n",
      "run sub starts:  {5: 'The Global Positioning System (GPS) allows devices to determine their exact location on Earth, crucial for navigation and mapping services.'}\n",
      "single sub else:  5\n",
      "empty 2\n"
     ]
    },
    {
     "name": "stderr",
     "output_type": "stream",
     "text": [
      "100%|██████████| 1/1 [00:00<00:00, 11748.75it/s]\n",
      "100%|██████████| 1/1 [00:00<00:00, 28728.11it/s]\n",
      "100%|██████████| 1/1 [00:00<00:00, 26886.56it/s]\n",
      "100%|██████████| 1/1 [00:00<00:00, 26214.40it/s]\n",
      "100%|██████████| 1/1 [00:00<00:00, 31300.78it/s]\n",
      "100%|██████████| 1/1 [00:00<00:00, 34379.54it/s]\n",
      "100%|██████████| 1/1 [00:00<00:00, 37117.73it/s]\n"
     ]
    },
    {
     "name": "stdout",
     "output_type": "stream",
     "text": [
      "run sub starts:  (6, 'Light Emitting Diodes (LEDs) are widely used in displays, signage, and general lighting due to their energy efficiency and longevity.')\n",
      "run sub starts:  {6: 'Light Emitting Diodes (LEDs) are widely used in displays, signage, and general lighting due to their energy efficiency and longevity.'}\n",
      "single sub else:  6\n",
      "empty 2\n"
     ]
    },
    {
     "name": "stderr",
     "output_type": "stream",
     "text": [
      "100%|██████████| 1/1 [00:00<00:00, 14513.16it/s]\n",
      "100%|██████████| 1/1 [00:00<00:00, 24385.49it/s]\n",
      "100%|██████████| 1/1 [00:00<00:00, 30393.51it/s]\n",
      "100%|██████████| 1/1 [00:00<00:00, 26886.56it/s]\n",
      "100%|██████████| 1/1 [00:00<00:00, 31300.78it/s]\n",
      "100%|██████████| 1/1 [00:00<00:00, 37117.73it/s]\n",
      "100%|██████████| 1/1 [00:00<00:00, 38479.85it/s]\n"
     ]
    },
    {
     "name": "stdout",
     "output_type": "stream",
     "text": [
      "run sub starts:  (7, 'Compared to traditional bulbs, LEDs, or Light Emitting Diodes, consume significantly less electricity, making them a cost-effective lighting solution.')\n",
      "run sub starts:  {7: 'Compared to traditional bulbs, LEDs, or Light Emitting Diodes, consume significantly less electricity, making them a cost-effective lighting solution.'}\n",
      "single sub else:  7\n",
      "empty 2\n"
     ]
    },
    {
     "name": "stderr",
     "output_type": "stream",
     "text": [
      "100%|██████████| 1/1 [00:00<00:00, 16644.06it/s]\n",
      "100%|██████████| 1/1 [00:00<00:00, 27776.85it/s]\n",
      "100%|██████████| 1/1 [00:00<00:00, 29330.80it/s]\n",
      "100%|██████████| 1/1 [00:00<00:00, 30174.85it/s]\n",
      "100%|██████████| 1/1 [00:00<00:00, 33288.13it/s]\n",
      "100%|██████████| 1/1 [00:00<00:00, 34100.03it/s]\n",
      "100%|██████████| 1/1 [00:00<00:00, 38836.15it/s]\n"
     ]
    },
    {
     "name": "stdout",
     "output_type": "stream",
     "text": [
      "run sub starts:  (8, 'The versatility of LED technology, or Light Emitting Diodes, has seen its application extend from simple indicators to full-scale digital displays.')\n",
      "run sub starts:  {8: 'The versatility of LED technology, or Light Emitting Diodes, has seen its application extend from simple indicators to full-scale digital displays.'}\n",
      "single sub else:  8\n",
      "empty 2\n"
     ]
    },
    {
     "name": "stderr",
     "output_type": "stream",
     "text": [
      "100%|██████████| 1/1 [00:00<00:00, 11881.88it/s]\n",
      "100%|██████████| 1/1 [00:00<00:00, 21732.15it/s]\n",
      "100%|██████████| 1/1 [00:00<00:00, 25731.93it/s]\n",
      "100%|██████████| 1/1 [00:00<00:00, 26214.40it/s]\n",
      "100%|██████████| 1/1 [00:00<00:00, 32263.88it/s]\n",
      "100%|██████████| 1/1 [00:00<00:00, 33288.13it/s]\n",
      "100%|██████████| 1/1 [00:00<00:00, 35848.75it/s]\n"
     ]
    },
    {
     "name": "stdout",
     "output_type": "stream",
     "text": [
      "run sub starts:  (9, 'Innovations in LED, Light Emitting Diode technology, continue to push the boundaries of what is possible with lighting, impacting various industries.')\n",
      "run sub starts:  {9: 'Innovations in LED, Light Emitting Diode technology, continue to push the boundaries of what is possible with lighting, impacting various industries.'}\n",
      "single sub else:  9\n",
      "empty 2\n"
     ]
    },
    {
     "name": "stderr",
     "output_type": "stream",
     "text": [
      "100%|██████████| 1/1 [00:00<00:00, 18315.74it/s]\n",
      "100%|██████████| 1/1 [00:00<00:00, 27776.85it/s]\n",
      "100%|██████████| 1/1 [00:00<00:00, 29330.80it/s]\n",
      "100%|██████████| 1/1 [00:00<00:00, 27060.03it/s]\n",
      "100%|██████████| 1/1 [00:00<00:00, 33288.13it/s]\n",
      "100%|██████████| 1/1 [00:00<00:00, 34663.67it/s]\n",
      "100%|██████████| 1/1 [00:00<00:00, 35848.75it/s]\n"
     ]
    },
    {
     "name": "stdout",
     "output_type": "stream",
     "text": [
      "run sub starts:  (10, 'Deoxyribonucleic Acid (DNA) holds the genetic blueprint for the development, functioning, and reproduction of living organisms.')\n",
      "run sub starts:  {10: 'Deoxyribonucleic Acid (DNA) holds the genetic blueprint for the development, functioning, and reproduction of living organisms.'}\n",
      "single sub else:  10\n",
      "empty 2\n"
     ]
    },
    {
     "name": "stderr",
     "output_type": "stream",
     "text": [
      "100%|██████████| 1/1 [00:00<00:00, 17623.13it/s]\n",
      "100%|██████████| 1/1 [00:00<00:00, 32017.59it/s]\n",
      "100%|██████████| 1/1 [00:00<00:00, 31068.92it/s]\n",
      "100%|██████████| 1/1 [00:00<00:00, 31068.92it/s]\n",
      "100%|██████████| 1/1 [00:00<00:00, 38479.85it/s]\n",
      "100%|██████████| 1/1 [00:00<00:00, 39945.75it/s]\n",
      "100%|██████████| 1/1 [00:00<00:00, 41943.04it/s]\n",
      "100%|██████████| 1/1 [00:00<00:00, 2898.62it/s]\n",
      "100%|██████████| 1/1 [00:00<00:00, 2951.66it/s]\n",
      "100%|██████████| 1/1 [00:00<00:00, 2421.65it/s]\n",
      "100%|██████████| 1/1 [00:00<00:00, 3379.78it/s]\n",
      "100%|██████████| 1/1 [00:00<00:00, 3300.00it/s]\n",
      "100%|██████████| 1/1 [00:00<00:00, 3279.36it/s]\n",
      "100%|██████████| 1/1 [00:00<00:00, 3175.10it/s]\n",
      "100%|██████████| 1/1 [00:00<00:00, 10106.76it/s]\n",
      "100%|██████████| 1/1 [00:00<00:00, 17924.38it/s]\n",
      "100%|██████████| 1/1 [00:00<00:00, 19599.55it/s]\n",
      "100%|██████████| 1/1 [00:00<00:00, 18808.54it/s]\n",
      "100%|██████████| 1/1 [00:00<00:00, 22795.13it/s]\n",
      "100%|██████████| 1/1 [00:00<00:00, 27060.03it/s]\n",
      "100%|██████████| 1/1 [00:00<00:00, 16131.94it/s]\n",
      "[Parallel(n_jobs=12)]: Done  13 out of  13 | elapsed:  2.7min finished\n",
      "100%|██████████| 1/1 [02:39<00:00, 159.33s/it]"
     ]
    },
    {
     "name": "stdout",
     "output_type": "stream",
     "text": [
      "run sub starts:  (11, 'Recent advancements in DNA sequencing technology have revolutionized our understanding of genetics, enabling detailed analysis of the Deoxyribonucleic Acid in various species.')\n",
      "run sub starts:  (12, 'In the fast-paced modern world, acronyms serve as concise references to complex phrases, \\nspanning various domains and industries. Let\\'s delve into a collection of these abbreviations, \\nhighlighting their diverse applications. Starting with geography and sovereignty, the \"United States (US)\" is commonly abbreviated, \\nrepresenting a 3-gram. In the intricate world of computing and electronics, we encounter the \"Central Processing Unit (CPU),\" \\nan essential 4-gram, alongside the \"Random Access Memory (RAM)\" and the \"Global Positioning System (GPS),\" each a 4-gram as well. \\nThe realm of science gives us the \"Light Amplification by Stimulated Emission of Radiation (LASER),\" a detailed 8-gram explaining a technology \\nused in countless applications. Diving enthusiasts might recognize the \"Self-Contained Underwater Breathing Apparatus (SCUBA),\" \\na 6-gram describing essential diving gear. Navigation and detection technology are encapsulated in \"Radio Detection And Ranging (RADAR),\" \\na concise 5-gram. The digital marketing sphere often references \"Search Engine Optimization (SEO),\" a 4-gram critical for enhancing online visibility. \\nEveryday financial transactions might involve an \"Automated Teller Machine (ATM),\" also a 4-gram, which has simplified banking operations. \\nThe building block of life is encoded in \"Deoxyribonucleic Acid (DNA),\" a 3-gram fundamental to genetics. \\nCommunication technologies have been revolutionized by \"Voice over Internet Protocol (VoIP),\" a 5-gram facilitating voice communication over the internet.\\nIn the medical field, \"Magnetic Resonance Imaging (MRI)\" is a 4-gram that provides unparalleled insights into the human body\\'s interior. \\nThe \"Light Emitting Diode (LED)\" technology, a 4-gram, is widely adopted for its efficiency in lighting.\\nThe gaming and graphic design industries heavily rely on the \"Graphics Processing Unit (GPU),\" \\na 4-gram critical for rendering high-quality images. Lastly, the development of dynamic web applications is often \\npowered by \"Asynchronous JavaScript and XML (AJAX),\" a 5-gram that has significantly enhanced web interactivity.\\n')\n",
      "run sub starts:  {12: 'In the fast-paced modern world, acronyms serve as concise references to complex phrases, \\nspanning various domains and industries. Let\\'s delve into a collection of these abbreviations, \\nhighlighting their diverse applications. Starting with geography and sovereignty, the \"United States (US)\" is commonly abbreviated, \\nrepresenting a 3-gram. In the intricate world of computing and electronics, we encounter the \"Central Processing Unit (CPU),\" \\nan essential 4-gram, alongside the \"Random Access Memory (RAM)\" and the \"Global Positioning System (GPS),\" each a 4-gram as well. \\nThe realm of science gives us the \"Light Amplification by Stimulated Emission of Radiation (LASER),\" a detailed 8-gram explaining a technology \\nused in countless applications. Diving enthusiasts might recognize the \"Self-Contained Underwater Breathing Apparatus (SCUBA),\" \\na 6-gram describing essential diving gear. Navigation and detection technology are encapsulated in \"Radio Detection And Ranging (RADAR),\" \\na concise 5-gram. The digital marketing sphere often references \"Search Engine Optimization (SEO),\" a 4-gram critical for enhancing online visibility. \\nEveryday financial transactions might involve an \"Automated Teller Machine (ATM),\" also a 4-gram, which has simplified banking operations. \\nThe building block of life is encoded in \"Deoxyribonucleic Acid (DNA),\" a 3-gram fundamental to genetics. \\nCommunication technologies have been revolutionized by \"Voice over Internet Protocol (VoIP),\" a 5-gram facilitating voice communication over the internet.\\nIn the medical field, \"Magnetic Resonance Imaging (MRI)\" is a 4-gram that provides unparalleled insights into the human body\\'s interior. \\nThe \"Light Emitting Diode (LED)\" technology, a 4-gram, is widely adopted for its efficiency in lighting.\\nThe gaming and graphic design industries heavily rely on the \"Graphics Processing Unit (GPU),\" \\na 4-gram critical for rendering high-quality images. Lastly, the development of dynamic web applications is often \\npowered by \"Asynchronous JavaScript and XML (AJAX),\" a 5-gram that has significantly enhanced web interactivity.\\n'}\n",
      "run sub starts:  {11: 'Recent advancements in DNA sequencing technology have revolutionized our understanding of genetics, enabling detailed analysis of the Deoxyribonucleic Acid in various species.'}\n",
      "single sub else:  12\n",
      "before words documents {12: 'In the fast-paced modern world, acronyms serve as concise references to complex phrases, \\nspanning various domains and industries. Let\\'s delve into a collection of these abbreviations, \\nhighlighting their diverse applications. Starting with geography and sovereignty, the \"United States (US)\" is commonly abbreviated, \\nrepresenting a 3-gram. In the intricate world of computing and electronics, we encounter the \"Central Processing Unit (CPU),\" \\nan essential 4-gram, alongside the \"Random Access Memory (RAM)\" and the \"Global Positioning System (GPS),\" each a 4-gram as well. \\nThe realm of science gives us the \"Light Amplification by Stimulated Emission of Radiation (LASER),\" a detailed 8-gram explaining a technology \\nused in countless applications. Diving enthusiasts might recognize the \"Self-Contained Underwater Breathing Apparatus (SCUBA),\" \\na 6-gram describing essential diving gear. Navigation and detection technology are encapsulated in \"Radio Detection And Ranging (RADAR),\" \\na concise 5-gram. The digital marketing sphere often references \"Search Engine Optimization (SEO),\" a 4-gram critical for enhancing online visibility. \\nEveryday financial transactions might involve an \"Automated Teller Machine (ATM),\" also a 4-gram, which has simplified banking operations. \\nThe building block of life is encoded in \"Deoxyribonucleic Acid (DNA),\" a 3-gram fundamental to genetics. \\nCommunication technologies have been revolutionized by \"Voice over Internet Protocol (VoIP),\" a 5-gram facilitating voice communication over the internet.\\nIn the medical field, \"Magnetic Resonance Imaging (MRI)\" is a 4-gram that provides unparalleled insights into the human body\\'s interior. \\nThe \"Light Emitting Diode (LED)\" technology, a 4-gram, is widely adopted for its efficiency in lighting.\\nThe gaming and graphic design industries heavily rely on the \"Graphics Processing Unit (GPU),\" \\na 4-gram critical for rendering high-quality images. Lastly, the development of dynamic web applications is often \\npowered by \"Asynchronous JavaScript and XML (AJAX),\" a 5-gram that has significantly enhanced web interactivity.\\n'}\n",
      "before words doc_id 12\n",
      "single sub else:  11\n",
      "empty 2\n"
     ]
    },
    {
     "name": "stderr",
     "output_type": "stream",
     "text": [
      "\n"
     ]
    }
   ],
   "source": [
    "cleaned_documents = vulture.clean(\n",
    "documents, \n",
    "steps= [AcronymCleaner(merge_sim_threshold=0.9, verbose=False)] # verbose false forced\n",
    ")"
   ]
  },
  {
   "cell_type": "code",
   "execution_count": 9,
   "metadata": {},
   "outputs": [
    {
     "data": {
      "text/plain": [
       "{0: 'central processing unit cpu computer task execute command software',\n",
       " 1: 'cpu central processing unit clock speed ghz influence information',\n",
       " 2: 'modern computing efficiency central processing unit cpu central processing unit impact',\n",
       " 3: '',\n",
       " 4: 'upgrade ram random access memory noticeable improvement computer responsiveness ability multiple simultaneously',\n",
       " 5: 'global positioning gps device exact location earth crucial navigation mapping service',\n",
       " 6: 'emit diode led display signage lighting efficiency longevity',\n",
       " 7: '',\n",
       " 8: 'versatility lead technology emit diode extend indicator digital display',\n",
       " 9: 'innovation lead emit diode technology continue push boundary light impact industry',\n",
       " 10: 'deoxyribonucleic acid dna hold genetic blueprint development function reproduction living organism',\n",
       " 11: 'advancement dna sequence technology revolutionize understand genetic enable detailed analysis deoxyribonucleic acid specie',\n",
       " 12: 'modern acronym serve concise complex phrase span domain industry delve collection abbreviation highlight diverse start geography sovereignty united states commonly abbreviate -gram intricate computing electronic encounter central processing unit cpu essential -gram alongside random access memory ram global positioning gps -gram realm science amplification stimulate emission radiation laser detail -gram explain technology countless diving enthusiast recognize underwater breathing apparatus scuba -gram describe essential diving gear navigation technology encapsulate radio range radar concise -gram digital marketing sphere search engine optimization seo -gram critical enhance online visibility everyday financial transaction involve automated teller machine atm -gram simplify banking operation building block life encode deoxyribonucleic acid dna -gram fundamental genetic communication technology revolutionize voice internet protocol voip -gram facilitate voice communication internet medical field magnetic resonance image mri -gram unparalleled insight human bodys interior emit diode lead technology -gram efficiency lighting game graphic design industry heavily rely graphic processing unit gpu -gram critical rendering image lastly development dynamic web power asynchronous javascript xml ajax -gram enhance web interactivity'}"
      ]
     },
     "execution_count": 9,
     "metadata": {},
     "output_type": "execute_result"
    }
   ],
   "source": [
    " acronyms"
   ]
  },
  {
   "cell_type": "code",
   "execution_count": null,
   "metadata": {},
   "outputs": [],
   "source": []
  }
 ],
 "metadata": {
  "kernelspec": {
   "display_name": "TELF",
   "language": "python",
   "name": "python3"
  },
  "language_info": {
   "codemirror_mode": {
    "name": "ipython",
    "version": 3
   },
   "file_extension": ".py",
   "mimetype": "text/x-python",
   "name": "python",
   "nbconvert_exporter": "python",
   "pygments_lexer": "ipython3",
   "version": "3.11.5"
  }
 },
 "nbformat": 4,
 "nbformat_minor": 2
}
